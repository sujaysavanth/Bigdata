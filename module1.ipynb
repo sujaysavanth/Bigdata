{
  "nbformat": 4,
  "nbformat_minor": 0,
  "metadata": {
    "colab": {
      "provenance": [],
      "authorship_tag": "ABX9TyMgb4+FeamovBtmsIYfaFy3",
      "include_colab_link": true
    },
    "kernelspec": {
      "name": "python3",
      "display_name": "Python 3"
    },
    "language_info": {
      "name": "python"
    }
  },
  "cells": [
    {
      "cell_type": "markdown",
      "metadata": {
        "id": "view-in-github",
        "colab_type": "text"
      },
      "source": [
        "<a href=\"https://colab.research.google.com/github/sujaysavanth/Bigdata/blob/main/module1.ipynb\" target=\"_parent\"><img src=\"https://colab.research.google.com/assets/colab-badge.svg\" alt=\"Open In Colab\"/></a>"
      ]
    },
    {
      "cell_type": "code",
      "execution_count": null,
      "metadata": {
        "colab": {
          "base_uri": "https://localhost:8080/"
        },
        "id": "I3iBGKL-RwyT",
        "outputId": "363a8b63-3adf-4bb2-f3e1-5fbaecfdbaa4"
      },
      "outputs": [
        {
          "output_type": "stream",
          "name": "stdout",
          "text": [
            "1\n",
            "22\n",
            "33\n",
            "45\n",
            "555\n",
            "55555\n",
            "1\n",
            "22\n",
            "33\n",
            "45\n",
            "555\n",
            "55555\n"
          ]
        }
      ],
      "source": [
        "list1 = [1,22,33,45,555,55555]\n",
        "for i in range(len(list1)):\n",
        "  print(list1[i])\n",
        "\n",
        "  # or\n",
        "for value in list1:\n",
        "  print(value)"
      ]
    },
    {
      "cell_type": "markdown",
      "source": [
        "Create a dictionary with 7 name-job pairs\n",
        "Problem 2: Dictionaries (2 Points)\n",
        "Write a python script that creates a dictionary that holds 7 name-job {key-value} pairs. Then print each key-value pair on a separate line.\n",
        "\n",
        "For example, the dictionary can hold these values:\n",
        "\n",
        "{\"Sam\":\"Plumber\", \"George\":\"Physical Trainer\", \"Nancy\":\"Accountant\"}\n",
        "Then print each key-value pair on a separate line using a for loop."
      ],
      "metadata": {
        "id": "hBeucEqXT1Ga"
      }
    },
    {
      "cell_type": "code",
      "source": [
        "\n",
        "jobs = {\n",
        "    \"Sam\": \"Plumber\",\n",
        "    \"George\": \"Physical Trainer\",\n",
        "    \"Nancy\": \"Accountant\",\n",
        "    \"Alice\": \"Teacher\",\n",
        "    \"Bob\": \"Engineer\",\n",
        "    \"Diana\": \"Doctor\",\n",
        "    \"Ethan\": \"Designer\"\n",
        "}\n",
        "for name,job in jobs.items():\n",
        "  print(f\"{name}:{job}\")"
      ],
      "metadata": {
        "colab": {
          "base_uri": "https://localhost:8080/"
        },
        "id": "3mtPAQg8SA6o",
        "outputId": "e141e5bc-7f8a-4d6c-a5cf-8a33e5cdf41f"
      },
      "execution_count": null,
      "outputs": [
        {
          "output_type": "stream",
          "name": "stdout",
          "text": [
            "Sam:Plumber\n",
            "George:Physical Trainer\n",
            "Nancy:Accountant\n",
            "Alice:Teacher\n",
            "Bob:Engineer\n",
            "Diana:Doctor\n",
            "Ethan:Designer\n"
          ]
        }
      ]
    },
    {
      "cell_type": "markdown",
      "source": [
        "Problem 3: File Handling (2 Points)\n",
        "Write a python script that reads the adult.data file (US Census Dataset, link above) and prints the first 20 records (rows). To do so:\n",
        "\n",
        "Use the open() function to create a file handle.\n",
        "Use a for loop to scan the file line by line, and use the print function to print each line."
      ],
      "metadata": {
        "id": "6DT_sHCcTxbP"
      }
    },
    {
      "cell_type": "code",
      "source": [
        "adult_file = open('/content/adult.data')\n",
        "count = 0\n",
        "for line in adult_file:\n",
        "  print(f\"{count}:{line.strip()}\")\n",
        "  count+=1\n",
        "  if count==20:\n",
        "    break\n",
        "\n",
        "\n",
        "adult_file.close()"
      ],
      "metadata": {
        "colab": {
          "base_uri": "https://localhost:8080/"
        },
        "id": "-T6pecoKTVR2",
        "outputId": "89070e2c-9a78-4bf4-a875-4f25cdaf9d3d"
      },
      "execution_count": null,
      "outputs": [
        {
          "output_type": "stream",
          "name": "stdout",
          "text": [
            "0:39, State-gov, 77516, Bachelors, 13, Never-married, Adm-clerical, Not-in-family, White, Male, 2174, 0, 40, United-States, <=50K\n",
            "1:50, Self-emp-not-inc, 83311, Bachelors, 13, Married-civ-spouse, Exec-managerial, Husband, White, Male, 0, 0, 13, United-States, <=50K\n",
            "2:38, Private, 215646, HS-grad, 9, Divorced, Handlers-cleaners, Not-in-family, White, Male, 0, 0, 40, United-States, <=50K\n",
            "3:53, Private, 234721, 11th, 7, Married-civ-spouse, Handlers-cleaners, Husband, Black, Male, 0, 0, 40, United-States, <=50K\n",
            "4:28, Private, 338409, Bachelors, 13, Married-civ-spouse, Prof-specialty, Wife, Black, Female, 0, 0, 40, Cuba, <=50K\n",
            "5:37, Private, 284582, Masters, 14, Married-civ-spouse, Exec-managerial, Wife, White, Female, 0, 0, 40, United-States, <=50K\n",
            "6:49, Private, 160187, 9th, 5, Married-spouse-absent, Other-service, Not-in-family, Black, Female, 0, 0, 16, Jamaica, <=50K\n",
            "7:52, Self-emp-not-inc, 209642, HS-grad, 9, Married-civ-spouse, Exec-managerial, Husband, White, Male, 0, 0, 45, United-States, >50K\n",
            "8:31, Private, 45781, Masters, 14, Never-married, Prof-specialty, Not-in-family, White, Female, 14084, 0, 50, United-States, >50K\n",
            "9:42, Private, 159449, Bachelors, 13, Married-civ-spouse, Exec-managerial, Husband, White, Male, 5178, 0, 40, United-States, >50K\n",
            "10:37, Private, 280464, Some-college, 10, Married-civ-spouse, Exec-managerial, Husband, Black, Male, 0, 0, 80, United-States, >50K\n",
            "11:30, State-gov, 141297, Bachelors, 13, Married-civ-spouse, Prof-specialty, Husband, Asian-Pac-Islander, Male, 0, 0, 40, India, >50K\n",
            "12:23, Private, 122272, Bachelors, 13, Never-married, Adm-clerical, Own-child, White, Female, 0, 0, 30, United-States, <=50K\n",
            "13:32, Private, 205019, Assoc-acdm, 12, Never-married, Sales, Not-in-family, Black, Male, 0, 0, 50, United-States, <=50K\n",
            "14:40, Private, 121772, Assoc-voc, 11, Married-civ-spouse, Craft-repair, Husband, Asian-Pac-Islander, Male, 0, 0, 40, ?, >50K\n",
            "15:34, Private, 245487, 7th-8th, 4, Married-civ-spouse, Transport-moving, Husband, Amer-Indian-Eskimo, Male, 0, 0, 45, Mexico, <=50K\n",
            "16:25, Self-emp-not-inc, 176756, HS-grad, 9, Never-married, Farming-fishing, Own-child, White, Male, 0, 0, 35, United-States, <=50K\n",
            "17:32, Private, 186824, HS-grad, 9, Never-married, Machine-op-inspct, Unmarried, White, Male, 0, 0, 40, United-States, <=50K\n",
            "18:38, Private, 28887, 11th, 7, Married-civ-spouse, Sales, Husband, White, Male, 0, 0, 50, United-States, <=50K\n",
            "19:43, Self-emp-not-inc, 292175, Masters, 14, Divorced, Exec-managerial, Unmarried, White, Female, 0, 0, 45, United-States, >50K\n"
          ]
        }
      ]
    },
    {
      "cell_type": "markdown",
      "source": [
        "Problem 4: Pandas Data Frames (3 Points)\n",
        "Write a python script that reads adult.data into a data frame. Then print the number of rows in the data frame.\n",
        "\n",
        "Notice that this file does not have column headers. You will need to specify the header=None option inside the read_csv() function.\n",
        "To find the number of rows, you can use the count() function. However, this will count the number of values within each column! To overcome that, select the first row: df[0] and then call the count()function for this single column as follows: df[0].count()"
      ],
      "metadata": {
        "id": "_capbB44UDwd"
      }
    },
    {
      "cell_type": "code",
      "source": [
        "import pandas as pd\n",
        "adult_df= pd.read_csv(\"/content/adult.data\",header=None)\n",
        "\n",
        "print(\"number of rows in the data frame: \",adult_df[0].count())"
      ],
      "metadata": {
        "colab": {
          "base_uri": "https://localhost:8080/"
        },
        "id": "qYBekBHdUuvS",
        "outputId": "7bc37a70-6c42-4683-9a5a-9a7d59487800"
      },
      "execution_count": null,
      "outputs": [
        {
          "output_type": "stream",
          "name": "stdout",
          "text": [
            "number of rows in the data frame:  32561\n"
          ]
        }
      ]
    },
    {
      "cell_type": "markdown",
      "source": [
        "Problem 5:  Data Slicing and Computing Stats (8 Points)\n",
        "Write a script that reads a US Census file into a data frame and\n",
        "\n",
        "Finds the min, max, avg ages.\n",
        "Finds the number of persons with Master's making more than 50K vs. the number of persons with Master's making less than 50K.\n",
        "Finds the percentage of Master's making more than 50K vs. the percentage of Master's making less than 50K.\n",
        "Finds the percentage of people making more than 50K vs those making less than 50K for each education level.\n",
        "Repeat the same activity above (only number 4) for each type of occupation, that's column 1."
      ],
      "metadata": {
        "id": "dZ0XYW40Wf2h"
      }
    },
    {
      "cell_type": "code",
      "source": [
        "print(adult_df.head(20).to_string(index=False))"
      ],
      "metadata": {
        "colab": {
          "base_uri": "https://localhost:8080/"
        },
        "id": "5zJygr4yZbT-",
        "outputId": "ef818027-c843-4633-d17a-7c5b8f4594bb"
      },
      "execution_count": null,
      "outputs": [
        {
          "output_type": "stream",
          "name": "stdout",
          "text": [
            " 0                 1      2             3   4                      5                  6              7                   8       9     10  11  12             13     14\n",
            " 39         State-gov  77516     Bachelors  13          Never-married       Adm-clerical  Not-in-family               White    Male  2174   0  40  United-States  <=50K\n",
            " 50  Self-emp-not-inc  83311     Bachelors  13     Married-civ-spouse    Exec-managerial        Husband               White    Male     0   0  13  United-States  <=50K\n",
            " 38           Private 215646       HS-grad   9               Divorced  Handlers-cleaners  Not-in-family               White    Male     0   0  40  United-States  <=50K\n",
            " 53           Private 234721          11th   7     Married-civ-spouse  Handlers-cleaners        Husband               Black    Male     0   0  40  United-States  <=50K\n",
            " 28           Private 338409     Bachelors  13     Married-civ-spouse     Prof-specialty           Wife               Black  Female     0   0  40           Cuba  <=50K\n",
            " 37           Private 284582       Masters  14     Married-civ-spouse    Exec-managerial           Wife               White  Female     0   0  40  United-States  <=50K\n",
            " 49           Private 160187           9th   5  Married-spouse-absent      Other-service  Not-in-family               Black  Female     0   0  16        Jamaica  <=50K\n",
            " 52  Self-emp-not-inc 209642       HS-grad   9     Married-civ-spouse    Exec-managerial        Husband               White    Male     0   0  45  United-States   >50K\n",
            " 31           Private  45781       Masters  14          Never-married     Prof-specialty  Not-in-family               White  Female 14084   0  50  United-States   >50K\n",
            " 42           Private 159449     Bachelors  13     Married-civ-spouse    Exec-managerial        Husband               White    Male  5178   0  40  United-States   >50K\n",
            " 37           Private 280464  Some-college  10     Married-civ-spouse    Exec-managerial        Husband               Black    Male     0   0  80  United-States   >50K\n",
            " 30         State-gov 141297     Bachelors  13     Married-civ-spouse     Prof-specialty        Husband  Asian-Pac-Islander    Male     0   0  40          India   >50K\n",
            " 23           Private 122272     Bachelors  13          Never-married       Adm-clerical      Own-child               White  Female     0   0  30  United-States  <=50K\n",
            " 32           Private 205019    Assoc-acdm  12          Never-married              Sales  Not-in-family               Black    Male     0   0  50  United-States  <=50K\n",
            " 40           Private 121772     Assoc-voc  11     Married-civ-spouse       Craft-repair        Husband  Asian-Pac-Islander    Male     0   0  40              ?   >50K\n",
            " 34           Private 245487       7th-8th   4     Married-civ-spouse   Transport-moving        Husband  Amer-Indian-Eskimo    Male     0   0  45         Mexico  <=50K\n",
            " 25  Self-emp-not-inc 176756       HS-grad   9          Never-married    Farming-fishing      Own-child               White    Male     0   0  35  United-States  <=50K\n",
            " 32           Private 186824       HS-grad   9          Never-married  Machine-op-inspct      Unmarried               White    Male     0   0  40  United-States  <=50K\n",
            " 38           Private  28887          11th   7     Married-civ-spouse              Sales        Husband               White    Male     0   0  50  United-States  <=50K\n",
            " 43  Self-emp-not-inc 292175       Masters  14               Divorced    Exec-managerial      Unmarried               White  Female     0   0  45  United-States   >50K\n"
          ]
        }
      ]
    },
    {
      "cell_type": "code",
      "source": [
        "# print(adult_df.head(20))\n",
        "\n",
        "print(f\"minimum age : {adult_df[0].min()}\")\n",
        "print(f\"maximum age : {adult_df[0].max()}\")\n",
        "print(f\"average age : {adult_df[0].mean()}\")\n",
        "\n",
        "Total_masters_count = adult_df[adult_df[3] == \" Masters\"].count()[0]\n",
        "masters_over_50k = adult_df[(adult_df[14] == \" >50K\") & (adult_df[3] == \" Masters\")].count()[0]\n",
        "masters_less_50k = adult_df[(adult_df[14] == \" <=50K\") & (adult_df[3] == \" Masters\")].count()[0]\n",
        "print(f\"number of persons with Master's making more than 50K vs. the number of persons with Master's: {masters_over_50k} VS {masters_less_50k}\")\n",
        "\n",
        "print(f\"Finds the percentage of Master's making more than 50K vs. the percentage of Master's making less than 50K: {(masters_over_50k/Total_masters_count)*100} VS {(masters_less_50k/Total_masters_count)*100}\")\n",
        "\n",
        "\n",
        "# Finds the percentage of people making more than 50K vs those making less than 50K for each education level.\n",
        "education_list = adult_df[3].unique()\n",
        "\n",
        "for educaton in education_list:\n",
        "  total_count = adult_df[adult_df[3]== educaton].count()[0]\n",
        "  over_50k = adult_df[(adult_df[14] == \" >50K\") & (adult_df[3] == educaton)].count()[0]\n",
        "  less_50k = adult_df[(adult_df[14] == \" <=50K\") & (adult_df[3] == educaton)].count()[0]\n",
        "  print(f\"\\n percentage of people making more than 50K vs those making less than 50K for {educaton} level: {round((over_50k/total_count)*100,2)} VS {round((less_50k/total_count)*100,2)}\")\n",
        "\n",
        "# Finds the percentage of people making more than 50K vs those making less than 50K for each occupation level.\n",
        "occupation_list = adult_df[1].unique()\n",
        "print(\"*******************occupation level***************************\")\n",
        "for occupation in occupation_list:\n",
        "  total_count = adult_df[adult_df[1]== occupation].count()[0]\n",
        "  over_50k = adult_df[(adult_df[14] == \" >50K\") & (adult_df[1] == occupation)].count()[0]\n",
        "  less_50k = adult_df[(adult_df[14] == \" <=50K\") & (adult_df[1] == occupation)].count()[0]\n",
        "  print(f\"\\n percentage of people making more than 50K vs those making less than 50K for {occupation} level: {round((over_50k/total_count)*100,2)} VS {round((less_50k/total_count)*100,2)}\")"
      ],
      "metadata": {
        "colab": {
          "base_uri": "https://localhost:8080/"
        },
        "id": "7tRiqd3hYRm_",
        "outputId": "6a2610bb-78fd-493b-fecd-2f5785551e3a"
      },
      "execution_count": null,
      "outputs": [
        {
          "output_type": "stream",
          "name": "stdout",
          "text": [
            "minimum age : 17\n",
            "maximum age : 90\n",
            "average age : 38.58164675532078\n",
            "number of persons with Master's making more than 50K vs. the number of persons with Master's: 959 VS 764\n",
            "Finds the percentage of Master's making more than 50K vs. the percentage of Master's making less than 50K: 55.65873476494486 VS 44.34126523505514\n",
            "\n",
            " percentage of people making more than 50K vs those making less than 50K for  Bachelors level: 41.48 VS 58.52\n",
            "\n",
            " percentage of people making more than 50K vs those making less than 50K for  HS-grad level: 15.95 VS 84.05\n",
            "\n",
            " percentage of people making more than 50K vs those making less than 50K for  11th level: 5.11 VS 94.89\n",
            "\n",
            " percentage of people making more than 50K vs those making less than 50K for  Masters level: 55.66 VS 44.34\n",
            "\n",
            " percentage of people making more than 50K vs those making less than 50K for  9th level: 5.25 VS 94.75\n",
            "\n",
            " percentage of people making more than 50K vs those making less than 50K for  Some-college level: 19.02 VS 80.98\n",
            "\n",
            " percentage of people making more than 50K vs those making less than 50K for  Assoc-acdm level: 24.84 VS 75.16\n",
            "\n",
            " percentage of people making more than 50K vs those making less than 50K for  Assoc-voc level: 26.12 VS 73.88\n",
            "\n",
            " percentage of people making more than 50K vs those making less than 50K for  7th-8th level: 6.19 VS 93.81\n",
            "\n",
            " percentage of people making more than 50K vs those making less than 50K for  Doctorate level: 74.09 VS 25.91\n",
            "\n",
            " percentage of people making more than 50K vs those making less than 50K for  Prof-school level: 73.44 VS 26.56\n",
            "\n",
            " percentage of people making more than 50K vs those making less than 50K for  5th-6th level: 4.8 VS 95.2\n",
            "\n",
            " percentage of people making more than 50K vs those making less than 50K for  10th level: 6.65 VS 93.35\n",
            "\n",
            " percentage of people making more than 50K vs those making less than 50K for  1st-4th level: 3.57 VS 96.43\n",
            "\n",
            " percentage of people making more than 50K vs those making less than 50K for  Preschool level: 0.0 VS 100.0\n",
            "\n",
            " percentage of people making more than 50K vs those making less than 50K for  12th level: 7.62 VS 92.38\n",
            "*******************occupation level***************************\n",
            "\n",
            " percentage of people making more than 50K vs those making less than 50K for  State-gov level: 27.2 VS 72.8\n",
            "\n",
            " percentage of people making more than 50K vs those making less than 50K for  Self-emp-not-inc level: 28.49 VS 71.51\n",
            "\n",
            " percentage of people making more than 50K vs those making less than 50K for  Private level: 21.87 VS 78.13\n",
            "\n",
            " percentage of people making more than 50K vs those making less than 50K for  Federal-gov level: 38.65 VS 61.35\n",
            "\n",
            " percentage of people making more than 50K vs those making less than 50K for  Local-gov level: 29.48 VS 70.52\n",
            "\n",
            " percentage of people making more than 50K vs those making less than 50K for  ? level: 10.4 VS 89.6\n",
            "\n",
            " percentage of people making more than 50K vs those making less than 50K for  Self-emp-inc level: 55.73 VS 44.27\n",
            "\n",
            " percentage of people making more than 50K vs those making less than 50K for  Without-pay level: 0.0 VS 100.0\n",
            "\n",
            " percentage of people making more than 50K vs those making less than 50K for  Never-worked level: 0.0 VS 100.0\n"
          ]
        }
      ]
    },
    {
      "cell_type": "markdown",
      "source": [
        "Problem 6: Simple Dataset File Processing (3 Points)\n",
        "Write a python script that reads the sample google play store apps data file into a data frame. Notice that this file has the column headers.\n",
        "\n",
        "Print the data frame using the print function.\n",
        "Notice that the second column holds the category of the app. An app category can be Business, Education, etc.\n",
        "\n",
        "Find the total number of apps for each category. This can be done by extracting the 'Category' column and counting the number of occurrences of each category using the value_counts()function.\n",
        "Which category has the highest number of apps? Write code that prints that category, and the number of apps associated with it. Look into these functions: max(), idxmax().\n",
        "Write a piece of code that finds for each non numeric column, the distinct values that appear in this column, and the frequency of occurrence of each value. For example, for the category column, the code should print all the categories listed, and the number of times each category appears in this column."
      ],
      "metadata": {
        "id": "3Vz-gV6wg2bJ"
      }
    },
    {
      "cell_type": "code",
      "source": [
        "playstoredf= pd.read_csv(\"/content/googleplaystore.csv\")\n",
        "print(playstoredf.head(10).to_string(index=False))"
      ],
      "metadata": {
        "colab": {
          "base_uri": "https://localhost:8080/"
        },
        "id": "eEbivEmwYofB",
        "outputId": "860b0010-364e-4d73-9d6e-be2273f2f102"
      },
      "execution_count": null,
      "outputs": [
        {
          "output_type": "stream",
          "name": "stdout",
          "text": [
            "                                               App       Category  Rating Reviews Size    Installs Type Price Content Rating                    Genres       Last Updated        Current Ver  Android Ver\n",
            "    Photo Editor & Candy Camera & Grid & ScrapBook ART_AND_DESIGN     4.1     159  19M     10,000+ Free     0       Everyone              Art & Design    January 7, 2018              1.0.0 4.0.3 and up\n",
            "                               Coloring book moana ART_AND_DESIGN     3.9     967  14M    500,000+ Free     0       Everyone Art & Design;Pretend Play   January 15, 2018              2.0.0 4.0.3 and up\n",
            "U Launcher Lite – FREE Live Cool Themes, Hide Apps ART_AND_DESIGN     4.7   87510 8.7M  5,000,000+ Free     0       Everyone              Art & Design     August 1, 2018              1.2.4 4.0.3 and up\n",
            "                             Sketch - Draw & Paint ART_AND_DESIGN     4.5  215644  25M 50,000,000+ Free     0           Teen              Art & Design       June 8, 2018 Varies with device   4.2 and up\n",
            "             Pixel Draw - Number Art Coloring Book ART_AND_DESIGN     4.3     967 2.8M    100,000+ Free     0       Everyone   Art & Design;Creativity      June 20, 2018                1.1   4.4 and up\n",
            "                        Paper flowers instructions ART_AND_DESIGN     4.4     167 5.6M     50,000+ Free     0       Everyone              Art & Design     March 26, 2017                1.0   2.3 and up\n",
            "           Smoke Effect Photo Maker - Smoke Editor ART_AND_DESIGN     3.8     178  19M     50,000+ Free     0       Everyone              Art & Design     April 26, 2018                1.1 4.0.3 and up\n",
            "                                  Infinite Painter ART_AND_DESIGN     4.1   36815  29M  1,000,000+ Free     0       Everyone              Art & Design      June 14, 2018           6.1.61.1   4.2 and up\n",
            "                              Garden Coloring Book ART_AND_DESIGN     4.4   13791  33M  1,000,000+ Free     0       Everyone              Art & Design September 20, 2017              2.9.2   3.0 and up\n",
            "                     Kids Paint Free - Drawing Fun ART_AND_DESIGN     4.7     121 3.1M     10,000+ Free     0       Everyone   Art & Design;Creativity       July 3, 2018                2.8 4.0.3 and up\n"
          ]
        }
      ]
    },
    {
      "cell_type": "code",
      "source": [
        "\n",
        "print(playstoredf[\"Category\"].unique())\n",
        "unique_app_categories = playstoredf[\"Category\"].unique()\n",
        "for category in unique_app_categories:\n",
        "  n = (playstoredf['Category']== category).sum()\n",
        "  print(f\"{category}:{n}\")\n",
        "\n",
        "\n",
        "counts = playstoredf['Category'].value_counts()\n",
        "print(f\"{counts.idxmax()}: {counts.max()}\")"
      ],
      "metadata": {
        "colab": {
          "base_uri": "https://localhost:8080/"
        },
        "id": "Ezbu83RTiCOk",
        "outputId": "27adff47-0798-4433-a288-2a4e471015bd"
      },
      "execution_count": null,
      "outputs": [
        {
          "output_type": "stream",
          "name": "stdout",
          "text": [
            "['ART_AND_DESIGN' 'AUTO_AND_VEHICLES' 'BEAUTY' 'BOOKS_AND_REFERENCE'\n",
            " 'BUSINESS' 'COMICS' 'COMMUNICATION' 'DATING' 'EDUCATION' 'ENTERTAINMENT'\n",
            " 'EVENTS' 'FINANCE' 'FOOD_AND_DRINK' 'HEALTH_AND_FITNESS' 'HOUSE_AND_HOME'\n",
            " 'LIBRARIES_AND_DEMO' 'LIFESTYLE' 'GAME' 'FAMILY' 'MEDICAL' 'SOCIAL'\n",
            " 'SHOPPING' 'PHOTOGRAPHY' 'SPORTS' 'TRAVEL_AND_LOCAL' 'TOOLS'\n",
            " 'PERSONALIZATION' 'PRODUCTIVITY' 'PARENTING' 'WEATHER' 'VIDEO_PLAYERS'\n",
            " 'NEWS_AND_MAGAZINES' 'MAPS_AND_NAVIGATION' '1.9']\n",
            "ART_AND_DESIGN:65\n",
            "AUTO_AND_VEHICLES:85\n",
            "BEAUTY:53\n",
            "BOOKS_AND_REFERENCE:231\n",
            "BUSINESS:460\n",
            "COMICS:60\n",
            "COMMUNICATION:387\n",
            "DATING:234\n",
            "EDUCATION:156\n",
            "ENTERTAINMENT:149\n",
            "EVENTS:64\n",
            "FINANCE:366\n",
            "FOOD_AND_DRINK:127\n",
            "HEALTH_AND_FITNESS:341\n",
            "HOUSE_AND_HOME:88\n",
            "LIBRARIES_AND_DEMO:85\n",
            "LIFESTYLE:382\n",
            "GAME:1144\n",
            "FAMILY:1972\n",
            "MEDICAL:463\n",
            "SOCIAL:295\n",
            "SHOPPING:260\n",
            "PHOTOGRAPHY:335\n",
            "SPORTS:384\n",
            "TRAVEL_AND_LOCAL:258\n",
            "TOOLS:843\n",
            "PERSONALIZATION:392\n",
            "PRODUCTIVITY:424\n",
            "PARENTING:60\n",
            "WEATHER:82\n",
            "VIDEO_PLAYERS:175\n",
            "NEWS_AND_MAGAZINES:283\n",
            "MAPS_AND_NAVIGATION:137\n",
            "1.9:1\n",
            "FAMILY: 1972\n"
          ]
        }
      ]
    },
    {
      "cell_type": "code",
      "source": [],
      "metadata": {
        "id": "Z73hjSVFidA8"
      },
      "execution_count": null,
      "outputs": []
    }
  ]
}